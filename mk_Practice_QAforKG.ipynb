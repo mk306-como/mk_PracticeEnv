{
 "cells": [
  {
   "cell_type": "markdown",
   "metadata": {},
   "source": [
    "This is a QA system based on KG querying  - this only owrks with Python 3.10!"
   ]
  },
  {
   "cell_type": "markdown",
   "metadata": {},
   "source": [
    "Next Steps\n",
    "\n",
    "    Expand the Knowledge Graph:\n",
    "\n",
    "        Add more entities and relationships.\n",
    "\n",
    "        Use a larger dataset like Wikidata or DBpedia.\n",
    "\n",
    "    Improve NLP:\n",
    "\n",
    "        Use more advanced models like BERT or GPT for entity and relationship extraction.\n",
    "\n",
    "    Add a User Interface:\n",
    "\n",
    "        Build a web or chatbot interface for user interaction.\n",
    "\n",
    "    Optimize Query Execution:\n",
    "\n",
    "        Use a graph database like Neo4j for faster querying.\n",
    "\n",
    "This system is a starting point and can be extended to handle more complex queries and larger datasets. Let me know if you need help with any specific part!"
   ]
  },
  {
   "cell_type": "code",
   "execution_count": 1,
   "metadata": {},
   "outputs": [],
   "source": [
    "# %pip install rdflib\n",
    "# %pip install spacy\n"
   ]
  },
  {
   "cell_type": "code",
   "execution_count": 1,
   "metadata": {},
   "outputs": [
    {
     "data": {
      "text/plain": [
       "<Graph identifier=N677a45700c864516a7064d2e3021ab68 (<class 'rdflib.graph.Graph'>)>"
      ]
     },
     "execution_count": 1,
     "metadata": {},
     "output_type": "execute_result"
    }
   ],
   "source": [
    "# Step 1: Build or Use a Knowledge Graph\n",
    "\n",
    "from rdflib import Graph, URIRef, Literal, Namespace\n",
    "\n",
    "# Create a graph\n",
    "kg = Graph()\n",
    "\n",
    "# Define a namespace\n",
    "ex = Namespace(\"http://example.org/\")\n",
    "\n",
    "# Add triples to the graph\n",
    "kg.add((ex.Alice, ex.works_at, ex.Google))\n",
    "kg.add((ex.Bob, ex.works_at, ex.Microsoft))\n",
    "kg.add((ex.Markus, ex.works_at, ex.MIT))\n",
    "kg.add((ex.Google, ex.location, ex.California))\n",
    "kg.add((ex.Microsoft, ex.location, ex.Washington))\n",
    "kg.add((ex.MIT, ex.location, ex.Cambridge))\n",
    "\n",
    "# Serialize the graph (optional)\n",
    "kg.serialize(\"knowledge_graph.ttl\", format=\"turtle\")"
   ]
  },
  {
   "cell_type": "code",
   "execution_count": 34,
   "metadata": {},
   "outputs": [
    {
     "name": "stdout",
     "output_type": "stream",
     "text": [
      "Entities: ['MIT']\n",
      "Verbs: ['located']\n"
     ]
    }
   ],
   "source": [
    "# Step 2: Natural Language Processing - entity recognition\n",
    "\n",
    "import spacy\n",
    "\n",
    "# Load a pre-trained NLP model\n",
    "nlp = spacy.load(\"en_core_web_sm\")\n",
    "\n",
    "def parse_question(question):\n",
    "    doc = nlp(question)\n",
    "    entities = [ent.text for ent in doc.ents]  # Extract entities\n",
    "    verbs = [token.text for token in doc if token.pos_ == \"VERB\"]  # Extract verbs\n",
    "    return entities, verbs\n",
    "\n",
    "# Example\n",
    "# question = \"Where does Alice work?\"\n",
    "# entities, verbs = parse_question(question)\n",
    "# print(\"Entities:\", entities)  # ['Alice']\n",
    "# print(\"Verbs:\", verbs)        # ['work']\n",
    "# question = \"Where does Bob work?\"\n",
    "# entities, verbs = parse_question(question)\n",
    "# print(\"Entities:\", entities)  # ['Bob']\n",
    "# print(\"Verbs:\", verbs)        # ['work']\n",
    "# question = \"Where does Markus work?\"\n",
    "# entities, verbs = parse_question(question)\n",
    "# print(\"Entities:\", entities)  # ['Markus']\n",
    "# print(\"Verbs:\", verbs)        # ['work']\n",
    "question = \"Where is MIT located?\"\n",
    "entities, verbs = parse_question(question)\n",
    "print(\"Entities:\", entities)  # ['MIT']\n",
    "print(\"Verbs:\", verbs)        # ['located']\n"
   ]
  },
  {
   "cell_type": "code",
   "execution_count": 35,
   "metadata": {},
   "outputs": [
    {
     "name": "stdout",
     "output_type": "stream",
     "text": [
      "Query: None\n",
      "['MIT']\n",
      "Query: SELECT ?location WHERE { <MIT> <location> ?location }\n"
     ]
    }
   ],
   "source": [
    "#  Step 3: Map Natural Language to Knowledge Graph Queries  - this is hard coded for now\n",
    "\n",
    "def create_query1(entities, verbs):\n",
    "    if \"work\" in verbs:\n",
    "        return f\"SELECT ?company WHERE {{ <{entities[0]}> <works_at> ?company }}\"\n",
    "    elif \"location\" in verbs:\n",
    "        return f\"SELECT ?location WHERE {{ <{entities[0]}> <works_at> ?company . ?company <location> ?location }}\"\n",
    "    else:\n",
    "        return None\n",
    "\n",
    "# def create_query2(entities, verbs):\n",
    "#     if \"located\" in verbs:\n",
    "#         return f\"SELECT ?company WHERE {{ <{entities[0]}> <location> ?location }}\"\n",
    "#     else:\n",
    "#         return None\n",
    "    \n",
    "def create_query2(entities):\n",
    "    return f\"SELECT ?location WHERE {{ <{entities[0]}> <location> ?location }}\"\n",
    "\n",
    "\n",
    "# Example\n",
    "query = create_query1(entities, verbs)\n",
    "print(\"Query:\", query)\n",
    "print(entities)\n",
    "query = create_query2(entities)\n",
    "print(\"Query:\", query)"
   ]
  },
  {
   "cell_type": "code",
   "execution_count": 39,
   "metadata": {},
   "outputs": [
    {
     "name": "stdout",
     "output_type": "stream",
     "text": [
      "Results: ['http://example.org/Cambridge']\n"
     ]
    }
   ],
   "source": [
    "# Step 4: Execute the Query on the Knowledge Graph\n",
    "\n",
    "def execute_query(graph, query):\n",
    "    results = graph.query(query)\n",
    "    return [str(result[0]) for result in results]\n",
    "\n",
    "# Example1\n",
    "query = \"\"\"\n",
    "    SELECT ?company WHERE {\n",
    "        <http://example.org/Alice> <http://example.org/works_at> ?company .\n",
    "    }\n",
    "\"\"\"\n",
    "\n",
    "# Example2\n",
    "query = \"\"\"\n",
    "    SELECT ?location WHERE {\n",
    "        <http://example.org/MIT> <http://example.org/location> ?location .\n",
    "    }\n",
    "\"\"\"\n",
    "results = execute_query(kg, query)\n",
    "print(\"Results:\", results)  # ['http://example.org/Google']"
   ]
  },
  {
   "cell_type": "code",
   "execution_count": 42,
   "metadata": {},
   "outputs": [
    {
     "name": "stdout",
     "output_type": "stream",
     "text": [
      "Response: Cambridge\n"
     ]
    }
   ],
   "source": [
    "# Step 5: Generate a Natural Language Response\n",
    "\n",
    "def generate_response(results, question):\n",
    "    if \"work\" in question:\n",
    "        return f\"{results[0].split('/')[-1]}\"\n",
    "    elif \"located\" in question:\n",
    "        return f\"{results[0].split('/')[-1]}\"\n",
    "    else:\n",
    "        return \"I don't know the answer.\"\n",
    "\n",
    "# Example\n",
    "response = generate_response(results, question)\n",
    "print(\"Response:\", response)  # 'Google'"
   ]
  }
 ],
 "metadata": {
  "kernelspec": {
   "display_name": "Python 3",
   "language": "python",
   "name": "python3"
  },
  "language_info": {
   "codemirror_mode": {
    "name": "ipython",
    "version": 3
   },
   "file_extension": ".py",
   "mimetype": "text/x-python",
   "name": "python",
   "nbconvert_exporter": "python",
   "pygments_lexer": "ipython3",
   "version": "3.10.0"
  }
 },
 "nbformat": 4,
 "nbformat_minor": 2
}
