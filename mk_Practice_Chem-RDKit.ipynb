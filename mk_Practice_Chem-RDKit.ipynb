{
 "cells": [
  {
   "cell_type": "code",
   "execution_count": 3,
   "metadata": {},
   "outputs": [
    {
     "name": "stdout",
     "output_type": "stream",
     "text": [
      "c:\\Users\\mk306\\AppData\\Local\\Programs\\Python\\Python313\\python.exe\n"
     ]
    },
    {
     "ename": "ModuleNotFoundError",
     "evalue": "No module named 'rdkit'",
     "output_type": "error",
     "traceback": [
      "\u001b[31m---------------------------------------------------------------------------\u001b[39m",
      "\u001b[31mModuleNotFoundError\u001b[39m                       Traceback (most recent call last)",
      "\u001b[36mCell\u001b[39m\u001b[36m \u001b[39m\u001b[32mIn[3]\u001b[39m\u001b[32m, line 4\u001b[39m\n\u001b[32m      1\u001b[39m \u001b[38;5;28;01mimport\u001b[39;00m\u001b[38;5;250m \u001b[39m\u001b[34;01msys\u001b[39;00m\n\u001b[32m      2\u001b[39m \u001b[38;5;28mprint\u001b[39m(sys.executable)\n\u001b[32m----> \u001b[39m\u001b[32m4\u001b[39m \u001b[38;5;28;01mfrom\u001b[39;00m\u001b[38;5;250m \u001b[39m\u001b[34;01mrdkit\u001b[39;00m\u001b[38;5;250m \u001b[39m\u001b[38;5;28;01mimport\u001b[39;00m Chem\n\u001b[32m      5\u001b[39m \u001b[38;5;28mprint\u001b[39m(Chem.__version__)\n\u001b[32m      7\u001b[39m \u001b[38;5;28;01mfrom\u001b[39;00m\u001b[38;5;250m \u001b[39m\u001b[34;01mrdkit\u001b[39;00m\u001b[38;5;250m \u001b[39m\u001b[38;5;28;01mimport\u001b[39;00m Chem\n",
      "\u001b[31mModuleNotFoundError\u001b[39m: No module named 'rdkit'"
     ]
    }
   ],
   "source": [
    "import sys\n",
    "print(sys.executable)\n",
    "\n",
    "from rdkit import Chem\n",
    "print(Chem.__version__)\n",
    "\n",
    "from rdkit import Chem\n",
    "from rdkit.Chem.rdFingerprintGenerator import GetMorganGenerator\n",
    "from rdkit.Chem import Draw\n",
    "\n",
    "# Define a molecule (e.g., benzene)\n",
    "mol = Chem.MolFromSmiles(\"c1ccc1\")\n",
    "# Define phenol using its SMILES representation\n",
    "phenol = Chem.MolFromSmiles(\"c1ccccc1O\")\n",
    "\n",
    "# Create a Morgan fingerprint generator\n",
    "gen = GetMorganGenerator(radius=3, fpSize=32)\n",
    "\n",
    "# Generate a fingerprint\n",
    "fp = gen.GetFingerprint(phenol)\n",
    "\n",
    "# Convert to a list of bits\n",
    "bit_list = list(fp)\n",
    "# Binary fingerprint representation\n",
    "print(bit_list)  \n",
    "\n",
    "# Draw the molecule\n",
    "Draw.MolToImage(phenol)"
   ]
  }
 ],
 "metadata": {
  "kernelspec": {
   "display_name": "Python 3",
   "language": "python",
   "name": "python3"
  },
  "language_info": {
   "codemirror_mode": {
    "name": "ipython",
    "version": 3
   },
   "file_extension": ".py",
   "mimetype": "text/x-python",
   "name": "python",
   "nbconvert_exporter": "python",
   "pygments_lexer": "ipython3",
   "version": "3.13.2"
  }
 },
 "nbformat": 4,
 "nbformat_minor": 2
}
