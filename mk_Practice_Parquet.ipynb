{
 "cells": [
  {
   "cell_type": "code",
   "execution_count": 3,
   "metadata": {},
   "outputs": [],
   "source": [
    "# %pip install pandas pyarrow"
   ]
  },
  {
   "cell_type": "code",
   "execution_count": 4,
   "metadata": {},
   "outputs": [
    {
     "name": "stdout",
     "output_type": "stream",
     "text": [
      "    Name  Age         City\n",
      "0  Alice   25     New York\n",
      "1    Bob   30  Los Angeles\n",
      "      Name  Age     City\n",
      "2  Charlie   35  Chicago\n",
      "3    David   40  Houston\n",
      "(4, 3)\n",
      "Index(['Name', 'Age', 'City'], dtype='object')\n"
     ]
    }
   ],
   "source": [
    "\n",
    "import pandas as pd\n",
    "import pyarrow as pa\n",
    "import pyarrow.parquet as pq\n",
    "\n",
    "# Define a schema\n",
    "schema = pa.schema([\n",
    "    ('Name', pa.string()),\n",
    "    ('Age', pa.int32()),\n",
    "    ('City', pa.string())\n",
    "])\n",
    "\n",
    "# Sample data\n",
    "data = {\n",
    "    'Name': ['Alice', 'Bob', 'Charlie', 'David'],\n",
    "    'Age': [25, 30, 35, 40],\n",
    "    'City': ['New York', 'Los Angeles', 'Chicago', 'Houston']\n",
    "}\n",
    "\n",
    "# Create a Pandas DataFrame\n",
    "df = pd.DataFrame(data)\n",
    "\n",
    "# Convert the Pandas DataFrame to a PyArrow Table\n",
    "table = pa.Table.from_pandas(df, schema=schema)\n",
    "\n",
    "# Write the PyArrow Table to a Parquet file\n",
    "parquet_file = 'example_with_schema.parquet'\n",
    "pq.write_table(table, parquet_file)\n",
    "\n",
    "# Read the Parquet file back into a PyArrow Table\n",
    "table_read = pq.read_table(parquet_file)\n",
    "\n",
    "# Convert the PyArrow Table back to a Pandas DataFrame\n",
    "df_read = table_read.to_pandas()\n",
    "\n",
    "# # Display the DataFrame\n",
    "# print(\"Data read from Parquet file with schema:\")\n",
    "# print(df_read)\n",
    "\n",
    "# viewing data in a DataFrame\n",
    "print(df_read.head(2))  # First 2 rows\n",
    "print(df_read.tail(2))  # Last 2 rows\n",
    "print(df_read.shape)    # (rows, columns)\n",
    "print(df_read.columns)  # Column names"
   ]
  }
 ],
 "metadata": {
  "kernelspec": {
   "display_name": "Python 3",
   "language": "python",
   "name": "python3"
  },
  "language_info": {
   "codemirror_mode": {
    "name": "ipython",
    "version": 3
   },
   "file_extension": ".py",
   "mimetype": "text/x-python",
   "name": "python",
   "nbconvert_exporter": "python",
   "pygments_lexer": "ipython3",
   "version": "3.13.2"
  }
 },
 "nbformat": 4,
 "nbformat_minor": 2
}
