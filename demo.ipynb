{
 "cells": [
  {
   "cell_type": "markdown",
   "metadata": {},
   "source": [
    "# `QuantumPioneer/databases` Demo\n",
    "This notebook demonstrates how to interact with the `QuantumPioneer` databases.\n",
    "\n",
    "See inline comments for more information."
   ]
  },
  {
   "cell_type": "code",
   "execution_count": 1,
   "metadata": {},
   "outputs": [],
   "source": [
    "import numpy as np\n",
    "\n",
    "# both pandas and polars can read parquet files - pick whichever you prefer!\n",
    "# there are advantages and disadvantages to both\n",
    "import pandas as pd\n",
    "import polars as pl\n",
    "\n",
    "import pyarrow as pa\n",
    "# this library interacts with the parquet format directly, and both pandas and polars can use it too\n",
    "import pyarrow.parquet as pq\n",
    "\n",
    "# schema = layout of the database (what are the datatypes, etc.)\n",
    "# the schema for the quantumpioneer databases are stored in databases.schema and vary depending on the type of data\n",
    "from databases.schema import DLPNO_SCHEMA, DFT_SCHEMA"
   ]
  },
  {
   "cell_type": "markdown",
   "metadata": {},
   "source": [
    "## DLPNO"
   ]
  },
  {
   "cell_type": "code",
   "execution_count": 2,
   "metadata": {},
   "outputs": [],
   "source": [
    "# set this to match wherever you have the database file located\n",
    "# DLPNO_DATABASE_FPATH = \"QuantumPioneer_v1_DLPNO.parquet\"\n",
    "DLPNO_DATABASE_FPATH = \"C:\\\\VS mk306 TestEnv\\\\QuantumPioneer\\\\databases\\\\dlpno_ts_v5.parquet\""
   ]
  },
  {
   "cell_type": "code",
   "execution_count": 3,
   "metadata": {},
   "outputs": [
    {
     "data": {
      "text/html": [
       "<div>\n",
       "<style scoped>\n",
       "    .dataframe tbody tr th:only-of-type {\n",
       "        vertical-align: middle;\n",
       "    }\n",
       "\n",
       "    .dataframe tbody tr th {\n",
       "        vertical-align: top;\n",
       "    }\n",
       "\n",
       "    .dataframe thead th {\n",
       "        text-align: right;\n",
       "    }\n",
       "</style>\n",
       "<table border=\"1\" class=\"dataframe\">\n",
       "  <thead>\n",
       "    <tr style=\"text-align: right;\">\n",
       "      <th></th>\n",
       "      <th>source</th>\n",
       "      <th>route_section</th>\n",
       "      <th>charge</th>\n",
       "      <th>multiplicity</th>\n",
       "      <th>energy</th>\n",
       "      <th>run_time</th>\n",
       "      <th>input_coordinates</th>\n",
       "      <th>dipole_au</th>\n",
       "      <th>t1_diagnostic</th>\n",
       "    </tr>\n",
       "  </thead>\n",
       "  <tbody>\n",
       "    <tr>\n",
       "      <th>0</th>\n",
       "      <td>/data1/groups/RMG/Projects/Hao-Wei-Oscar-Yunsi...</td>\n",
       "      <td>uHF UNO DLPNO-CCSD(T)-F12D cc-pvtz-f12 def2/J ...</td>\n",
       "      <td>0</td>\n",
       "      <td>2</td>\n",
       "      <td>-552.285416</td>\n",
       "      <td>2401.0</td>\n",
       "      <td>[[-1.18079, 1.675527, 1.578389], [-0.208623, 2...</td>\n",
       "      <td>1.07331</td>\n",
       "      <td>0.016131</td>\n",
       "    </tr>\n",
       "    <tr>\n",
       "      <th>1</th>\n",
       "      <td>/data1/groups/RMG/Projects/Hao-Wei-Oscar-Yunsi...</td>\n",
       "      <td>uHF UNO DLPNO-CCSD(T)-F12D cc-pvtz-f12 def2/J ...</td>\n",
       "      <td>0</td>\n",
       "      <td>2</td>\n",
       "      <td>-570.750611</td>\n",
       "      <td>2936.0</td>\n",
       "      <td>[[2.188448, 0.23618, -1.582947], [1.462597, -0...</td>\n",
       "      <td>1.87994</td>\n",
       "      <td>0.021023</td>\n",
       "    </tr>\n",
       "    <tr>\n",
       "      <th>2</th>\n",
       "      <td>/data1/groups/RMG/Projects/Hao-Wei-Oscar-Yunsi...</td>\n",
       "      <td>uHF UNO DLPNO-CCSD(T)-F12D cc-pvtz-f12 def2/J ...</td>\n",
       "      <td>0</td>\n",
       "      <td>2</td>\n",
       "      <td>-572.077854</td>\n",
       "      <td>2755.0</td>\n",
       "      <td>[[1.863694, -1.837741, 0.404006], [1.711148, -...</td>\n",
       "      <td>1.17816</td>\n",
       "      <td>0.021460</td>\n",
       "    </tr>\n",
       "    <tr>\n",
       "      <th>3</th>\n",
       "      <td>/data1/groups/RMG/Projects/Hao-Wei-Oscar-Yunsi...</td>\n",
       "      <td>uHF UNO DLPNO-CCSD(T)-F12D cc-pvtz-f12 def2/J ...</td>\n",
       "      <td>0</td>\n",
       "      <td>2</td>\n",
       "      <td>-572.156665</td>\n",
       "      <td>2168.0</td>\n",
       "      <td>[[0.511578, 0.143144, 1.144126], [0.099432, -0...</td>\n",
       "      <td>2.02224</td>\n",
       "      <td>0.015178</td>\n",
       "    </tr>\n",
       "  </tbody>\n",
       "</table>\n",
       "</div>"
      ],
      "text/plain": [
       "                                              source  \\\n",
       "0  /data1/groups/RMG/Projects/Hao-Wei-Oscar-Yunsi...   \n",
       "1  /data1/groups/RMG/Projects/Hao-Wei-Oscar-Yunsi...   \n",
       "2  /data1/groups/RMG/Projects/Hao-Wei-Oscar-Yunsi...   \n",
       "3  /data1/groups/RMG/Projects/Hao-Wei-Oscar-Yunsi...   \n",
       "\n",
       "                                       route_section  charge  multiplicity  \\\n",
       "0  uHF UNO DLPNO-CCSD(T)-F12D cc-pvtz-f12 def2/J ...       0             2   \n",
       "1  uHF UNO DLPNO-CCSD(T)-F12D cc-pvtz-f12 def2/J ...       0             2   \n",
       "2  uHF UNO DLPNO-CCSD(T)-F12D cc-pvtz-f12 def2/J ...       0             2   \n",
       "3  uHF UNO DLPNO-CCSD(T)-F12D cc-pvtz-f12 def2/J ...       0             2   \n",
       "\n",
       "       energy  run_time                                  input_coordinates  \\\n",
       "0 -552.285416    2401.0  [[-1.18079, 1.675527, 1.578389], [-0.208623, 2...   \n",
       "1 -570.750611    2936.0  [[2.188448, 0.23618, -1.582947], [1.462597, -0...   \n",
       "2 -572.077854    2755.0  [[1.863694, -1.837741, 0.404006], [1.711148, -...   \n",
       "3 -572.156665    2168.0  [[0.511578, 0.143144, 1.144126], [0.099432, -0...   \n",
       "\n",
       "   dipole_au  t1_diagnostic  \n",
       "0    1.07331       0.016131  \n",
       "1    1.87994       0.021023  \n",
       "2    1.17816       0.021460  \n",
       "3    2.02224       0.015178  "
      ]
     },
     "execution_count": 3,
     "metadata": {},
     "output_type": "execute_result"
    }
   ],
   "source": [
    "# just open and read the entire dataset (very practical with the DLPNO data, which is small), which will be slow with pandas\n",
    "df = pd.read_parquet(\n",
    "    DLPNO_DATABASE_FPATH,\n",
    "    schema=DLPNO_SCHEMA,  # pandas will try and guess this on its own if you don't provide it - it gets it right, but is slower\n",
    ")\n",
    "df.head(4)"
   ]
  },
  {
   "cell_type": "code",
   "execution_count": 4,
   "metadata": {},
   "outputs": [
    {
     "data": {
      "text/plain": [
       "['uHF UNO DLPNO-CCSD(T)-F12D cc-pvtz-f12 def2/J cc-pvqz/c cc-pvqz-f12-cabs RIJCOSX VeryTightSCF NormalPNO',\n",
       " array([array([-1.18079 ,  1.675527,  1.578389]),\n",
       "        array([-0.208623,  2.492819,  1.043383]),\n",
       "        array([-0.779649,  1.343507,  2.394862]),\n",
       "        array([ 0.39244 ,  2.157912, -2.692596]),\n",
       "        array([-0.621929,  0.546014, -1.284805]),\n",
       "        array([-0.971654,  1.756936, -2.170265]),\n",
       "        array([ 0.817017,  2.041762, -4.123272]),\n",
       "        array([ 0.68777 ,  3.397201, -3.461238]),\n",
       "        array([ 0.738187,  1.006404, -0.756896]),\n",
       "        array([ 1.345064,  1.751076, -1.725896]),\n",
       "        array([-0.523152, -0.705763, -2.043505]),\n",
       "        array([-1.337158,  0.408528, -0.460266]),\n",
       "        array([-1.38121 ,  2.545217, -1.521893]),\n",
       "        array([-1.689654,  1.529796, -2.967584]),\n",
       "        array([ 1.825474,  1.662826, -4.301803]),\n",
       "        array([ 0.068298,  1.737138, -4.858615]),\n",
       "        array([ 1.610191,  3.922564, -3.20463 ]),\n",
       "        array([-0.151878,  4.041207, -3.734844]),\n",
       "        array([0.386656, 1.786164, 0.227104]),\n",
       "        array([ 1.418418,  0.261918, -0.320936]),\n",
       "        array([-0.436956, -1.690886, -2.642081])], dtype=object)]"
      ]
     },
     "execution_count": 4,
     "metadata": {},
     "output_type": "execute_result"
    }
   ],
   "source": [
    "# from here you can do all of your usual pandas manipulations\n",
    "df.iloc[0][[\"route_section\", \"input_coordinates\"]].to_list()"
   ]
  },
  {
   "cell_type": "code",
   "execution_count": 5,
   "metadata": {},
   "outputs": [
    {
     "data": {
      "text/html": [
       "<div>\n",
       "<style scoped>\n",
       "    .dataframe tbody tr th:only-of-type {\n",
       "        vertical-align: middle;\n",
       "    }\n",
       "\n",
       "    .dataframe tbody tr th {\n",
       "        vertical-align: top;\n",
       "    }\n",
       "\n",
       "    .dataframe thead th {\n",
       "        text-align: right;\n",
       "    }\n",
       "</style>\n",
       "<table border=\"1\" class=\"dataframe\">\n",
       "  <thead>\n",
       "    <tr style=\"text-align: right;\">\n",
       "      <th></th>\n",
       "      <th>source</th>\n",
       "      <th>energy</th>\n",
       "    </tr>\n",
       "  </thead>\n",
       "  <tbody>\n",
       "    <tr>\n",
       "      <th>0</th>\n",
       "      <td>/data1/groups/RMG/Projects/Hao-Wei-Oscar-Yunsi...</td>\n",
       "      <td>-552.285416</td>\n",
       "    </tr>\n",
       "    <tr>\n",
       "      <th>1</th>\n",
       "      <td>/data1/groups/RMG/Projects/Hao-Wei-Oscar-Yunsi...</td>\n",
       "      <td>-570.750611</td>\n",
       "    </tr>\n",
       "    <tr>\n",
       "      <th>2</th>\n",
       "      <td>/data1/groups/RMG/Projects/Hao-Wei-Oscar-Yunsi...</td>\n",
       "      <td>-572.077854</td>\n",
       "    </tr>\n",
       "    <tr>\n",
       "      <th>3</th>\n",
       "      <td>/data1/groups/RMG/Projects/Hao-Wei-Oscar-Yunsi...</td>\n",
       "      <td>-572.156665</td>\n",
       "    </tr>\n",
       "  </tbody>\n",
       "</table>\n",
       "</div>"
      ],
      "text/plain": [
       "                                              source      energy\n",
       "0  /data1/groups/RMG/Projects/Hao-Wei-Oscar-Yunsi... -552.285416\n",
       "1  /data1/groups/RMG/Projects/Hao-Wei-Oscar-Yunsi... -570.750611\n",
       "2  /data1/groups/RMG/Projects/Hao-Wei-Oscar-Yunsi... -572.077854\n",
       "3  /data1/groups/RMG/Projects/Hao-Wei-Oscar-Yunsi... -572.156665"
      ]
     },
     "execution_count": 5,
     "metadata": {},
     "output_type": "execute_result"
    }
   ],
   "source": [
    "# you can reduce the amount of memory consumed by only loading the columns that you care about using columns=...\n",
    "df = pd.read_parquet(DLPNO_DATABASE_FPATH, columns=[\"source\", \"energy\"])\n",
    "df.head(4)"
   ]
  },
  {
   "cell_type": "code",
   "execution_count": 6,
   "metadata": {},
   "outputs": [
    {
     "data": {
      "text/html": [
       "<div>\n",
       "<style scoped>\n",
       "    .dataframe tbody tr th:only-of-type {\n",
       "        vertical-align: middle;\n",
       "    }\n",
       "\n",
       "    .dataframe tbody tr th {\n",
       "        vertical-align: top;\n",
       "    }\n",
       "\n",
       "    .dataframe thead th {\n",
       "        text-align: right;\n",
       "    }\n",
       "</style>\n",
       "<table border=\"1\" class=\"dataframe\">\n",
       "  <thead>\n",
       "    <tr style=\"text-align: right;\">\n",
       "      <th></th>\n",
       "      <th>source</th>\n",
       "      <th>route_section</th>\n",
       "      <th>charge</th>\n",
       "      <th>multiplicity</th>\n",
       "      <th>energy</th>\n",
       "      <th>run_time</th>\n",
       "      <th>input_coordinates</th>\n",
       "      <th>dipole_au</th>\n",
       "      <th>t1_diagnostic</th>\n",
       "    </tr>\n",
       "  </thead>\n",
       "  <tbody>\n",
       "    <tr>\n",
       "      <th>0</th>\n",
       "      <td>/data1/groups/RMG/Projects/Hao-Wei-Oscar-Yunsi...</td>\n",
       "      <td>uHF UNO DLPNO-CCSD(T)-F12D cc-pvtz-f12 def2/J ...</td>\n",
       "      <td>0</td>\n",
       "      <td>2</td>\n",
       "      <td>-552.285416</td>\n",
       "      <td>2401.0</td>\n",
       "      <td>[[-1.18079, 1.675527, 1.578389], [-0.208623, 2...</td>\n",
       "      <td>1.07331</td>\n",
       "      <td>0.016131</td>\n",
       "    </tr>\n",
       "    <tr>\n",
       "      <th>1</th>\n",
       "      <td>/data1/groups/RMG/Projects/Hao-Wei-Oscar-Yunsi...</td>\n",
       "      <td>uHF UNO DLPNO-CCSD(T)-F12D cc-pvtz-f12 def2/J ...</td>\n",
       "      <td>0</td>\n",
       "      <td>2</td>\n",
       "      <td>-570.750611</td>\n",
       "      <td>2936.0</td>\n",
       "      <td>[[2.188448, 0.23618, -1.582947], [1.462597, -0...</td>\n",
       "      <td>1.87994</td>\n",
       "      <td>0.021023</td>\n",
       "    </tr>\n",
       "    <tr>\n",
       "      <th>2</th>\n",
       "      <td>/data1/groups/RMG/Projects/Hao-Wei-Oscar-Yunsi...</td>\n",
       "      <td>uHF UNO DLPNO-CCSD(T)-F12D cc-pvtz-f12 def2/J ...</td>\n",
       "      <td>0</td>\n",
       "      <td>2</td>\n",
       "      <td>-572.077854</td>\n",
       "      <td>2755.0</td>\n",
       "      <td>[[1.863694, -1.837741, 0.404006], [1.711148, -...</td>\n",
       "      <td>1.17816</td>\n",
       "      <td>0.021460</td>\n",
       "    </tr>\n",
       "    <tr>\n",
       "      <th>3</th>\n",
       "      <td>/data1/groups/RMG/Projects/Hao-Wei-Oscar-Yunsi...</td>\n",
       "      <td>uHF UNO DLPNO-CCSD(T)-F12D cc-pvtz-f12 def2/J ...</td>\n",
       "      <td>0</td>\n",
       "      <td>2</td>\n",
       "      <td>-572.156665</td>\n",
       "      <td>2168.0</td>\n",
       "      <td>[[0.511578, 0.143144, 1.144126], [0.099432, -0...</td>\n",
       "      <td>2.02224</td>\n",
       "      <td>0.015178</td>\n",
       "    </tr>\n",
       "  </tbody>\n",
       "</table>\n",
       "</div>"
      ],
      "text/plain": [
       "                                              source  \\\n",
       "0  /data1/groups/RMG/Projects/Hao-Wei-Oscar-Yunsi...   \n",
       "1  /data1/groups/RMG/Projects/Hao-Wei-Oscar-Yunsi...   \n",
       "2  /data1/groups/RMG/Projects/Hao-Wei-Oscar-Yunsi...   \n",
       "3  /data1/groups/RMG/Projects/Hao-Wei-Oscar-Yunsi...   \n",
       "\n",
       "                                       route_section  charge  multiplicity  \\\n",
       "0  uHF UNO DLPNO-CCSD(T)-F12D cc-pvtz-f12 def2/J ...       0             2   \n",
       "1  uHF UNO DLPNO-CCSD(T)-F12D cc-pvtz-f12 def2/J ...       0             2   \n",
       "2  uHF UNO DLPNO-CCSD(T)-F12D cc-pvtz-f12 def2/J ...       0             2   \n",
       "3  uHF UNO DLPNO-CCSD(T)-F12D cc-pvtz-f12 def2/J ...       0             2   \n",
       "\n",
       "       energy  run_time                                  input_coordinates  \\\n",
       "0 -552.285416    2401.0  [[-1.18079, 1.675527, 1.578389], [-0.208623, 2...   \n",
       "1 -570.750611    2936.0  [[2.188448, 0.23618, -1.582947], [1.462597, -0...   \n",
       "2 -572.077854    2755.0  [[1.863694, -1.837741, 0.404006], [1.711148, -...   \n",
       "3 -572.156665    2168.0  [[0.511578, 0.143144, 1.144126], [0.099432, -0...   \n",
       "\n",
       "   dipole_au  t1_diagnostic  \n",
       "0    1.07331       0.016131  \n",
       "1    1.87994       0.021023  \n",
       "2    1.17816       0.021460  \n",
       "3    2.02224       0.015178  "
      ]
     },
     "execution_count": 6,
     "metadata": {},
     "output_type": "execute_result"
    }
   ],
   "source": [
    "# and you filter out specific rows _when reading_ the database to further reduce memory consumption (and speed things up)\n",
    "# these statements can be complex, but the pandas docs explain it well:\n",
    "# https://pandas.pydata.org/docs/reference/api/pandas.read_parquet.html\n",
    "df = pd.read_parquet(\n",
    "    DLPNO_DATABASE_FPATH,\n",
    "    # SKIP rows where...\n",
    "    filters=[\n",
    "        [\n",
    "            (  # multiplicity is equal to 1\n",
    "                \"multiplicity\",\n",
    "                \"=\",\n",
    "                1,\n",
    "            ),  # AND\n",
    "            (  # energy is less than -500\n",
    "                \"energy\",\n",
    "                \"<\",\n",
    "                -500,\n",
    "            ),\n",
    "        ],\n",
    "        [  # OR\n",
    "            (  # these two specific files\n",
    "                \"source\",\n",
    "                \"not in\",\n",
    "                (\n",
    "                    \"/data1/groups/co2_capture/reactant_product_calculation/ts_nho_round1/output/DLPNO_sp_f12/outputs/outputs_146/146857.log\",\n",
    "                    \"/data1/groups/co2_capture/reactant_product_calculation/ts_nho_round1/output/DLPNO_sp_f12/outputs/outputs_146/146989.log\",\n",
    "                ),\n",
    "            ),\n",
    "        ],\n",
    "    ],\n",
    ")\n",
    "df.head(4)"
   ]
  },
  {
   "cell_type": "code",
   "execution_count": 7,
   "metadata": {},
   "outputs": [
    {
     "data": {
      "text/html": [
       "<div>\n",
       "<style scoped>\n",
       "    .dataframe tbody tr th:only-of-type {\n",
       "        vertical-align: middle;\n",
       "    }\n",
       "\n",
       "    .dataframe tbody tr th {\n",
       "        vertical-align: top;\n",
       "    }\n",
       "\n",
       "    .dataframe thead th {\n",
       "        text-align: right;\n",
       "    }\n",
       "</style>\n",
       "<table border=\"1\" class=\"dataframe\">\n",
       "  <thead>\n",
       "    <tr style=\"text-align: right;\">\n",
       "      <th></th>\n",
       "      <th>source</th>\n",
       "      <th>charge</th>\n",
       "    </tr>\n",
       "  </thead>\n",
       "  <tbody>\n",
       "  </tbody>\n",
       "</table>\n",
       "</div>"
      ],
      "text/plain": [
       "Empty DataFrame\n",
       "Columns: [source, charge]\n",
       "Index: []"
      ]
     },
     "execution_count": 7,
     "metadata": {},
     "output_type": "execute_result"
    }
   ],
   "source": [
    "# you can also filter out based on one row without actually loading it\n",
    "df = pd.read_parquet(DLPNO_DATABASE_FPATH, filters=[(\"run_time\", \"<\", 100)], columns=[\"source\", \"charge\"])\n",
    "df.head(4)"
   ]
  },
  {
   "cell_type": "code",
   "execution_count": 8,
   "metadata": {},
   "outputs": [
    {
     "data": {
      "text/html": [
       "<div><style>\n",
       ".dataframe > thead > tr,\n",
       ".dataframe > tbody > tr {\n",
       "  text-align: right;\n",
       "  white-space: pre-wrap;\n",
       "}\n",
       "</style>\n",
       "<small>shape: (4, 9)</small><table border=\"1\" class=\"dataframe\"><thead><tr><th>source</th><th>route_section</th><th>charge</th><th>multiplicity</th><th>energy</th><th>run_time</th><th>input_coordinates</th><th>dipole_au</th><th>t1_diagnostic</th></tr><tr><td>str</td><td>str</td><td>u8</td><td>u8</td><td>f64</td><td>u32</td><td>list[list[f64]]</td><td>f32</td><td>f32</td></tr></thead><tbody><tr><td>&quot;/data1/groups/RMG/Projects/Hao…</td><td>&quot;uHF UNO DLPNO-CCSD(T)-F12D cc-…</td><td>0</td><td>2</td><td>-552.285416</td><td>2401</td><td>[[-1.18079, 1.675527, 1.578389], [-0.208623, 2.492819, 1.043383], … [-0.436956, -1.690886, -2.642081]]</td><td>1.07331</td><td>0.016131</td></tr><tr><td>&quot;/data1/groups/RMG/Projects/Hao…</td><td>&quot;uHF UNO DLPNO-CCSD(T)-F12D cc-…</td><td>0</td><td>2</td><td>-570.750611</td><td>2936</td><td>[[2.188448, 0.23618, -1.582947], [1.462597, -0.505002, -0.684492], … [3.449137, -4.208908, 2.296006]]</td><td>1.87994</td><td>0.021023</td></tr><tr><td>&quot;/data1/groups/RMG/Projects/Hao…</td><td>&quot;uHF UNO DLPNO-CCSD(T)-F12D cc-…</td><td>0</td><td>2</td><td>-572.077854</td><td>2755</td><td>[[1.863694, -1.837741, 0.404006], [1.711148, -1.238914, 1.627546], … [4.269185, 1.746003, -0.377551]]</td><td>1.17816</td><td>0.02146</td></tr><tr><td>&quot;/data1/groups/RMG/Projects/Hao…</td><td>&quot;uHF UNO DLPNO-CCSD(T)-F12D cc-…</td><td>0</td><td>2</td><td>-572.156665</td><td>2168</td><td>[[0.511578, 0.143144, 1.144126], [0.099432, -0.43431, -0.040568], … [1.178596, -1.353135, 2.218449]]</td><td>2.02224</td><td>0.015178</td></tr></tbody></table></div>"
      ],
      "text/plain": [
       "shape: (4, 9)\n",
       "┌────────────┬────────────┬────────┬────────────┬───┬──────────┬───────────┬───────────┬───────────┐\n",
       "│ source     ┆ route_sect ┆ charge ┆ multiplici ┆ … ┆ run_time ┆ input_coo ┆ dipole_au ┆ t1_diagno │\n",
       "│ ---        ┆ ion        ┆ ---    ┆ ty         ┆   ┆ ---      ┆ rdinates  ┆ ---       ┆ stic      │\n",
       "│ str        ┆ ---        ┆ u8     ┆ ---        ┆   ┆ u32      ┆ ---       ┆ f32       ┆ ---       │\n",
       "│            ┆ str        ┆        ┆ u8         ┆   ┆          ┆ list[list ┆           ┆ f32       │\n",
       "│            ┆            ┆        ┆            ┆   ┆          ┆ [f64]]    ┆           ┆           │\n",
       "╞════════════╪════════════╪════════╪════════════╪═══╪══════════╪═══════════╪═══════════╪═══════════╡\n",
       "│ /data1/gro ┆ uHF UNO    ┆ 0      ┆ 2          ┆ … ┆ 2401     ┆ [[-1.1807 ┆ 1.07331   ┆ 0.016131  │\n",
       "│ ups/RMG/Pr ┆ DLPNO-CCSD ┆        ┆            ┆   ┆          ┆ 9,        ┆           ┆           │\n",
       "│ ojects/Hao ┆ (T)-F12D   ┆        ┆            ┆   ┆          ┆ 1.675527, ┆           ┆           │\n",
       "│ …          ┆ cc-…       ┆        ┆            ┆   ┆          ┆ 1.578389… ┆           ┆           │\n",
       "│ /data1/gro ┆ uHF UNO    ┆ 0      ┆ 2          ┆ … ┆ 2936     ┆ [[2.18844 ┆ 1.87994   ┆ 0.021023  │\n",
       "│ ups/RMG/Pr ┆ DLPNO-CCSD ┆        ┆            ┆   ┆          ┆ 8,        ┆           ┆           │\n",
       "│ ojects/Hao ┆ (T)-F12D   ┆        ┆            ┆   ┆          ┆ 0.23618,  ┆           ┆           │\n",
       "│ …          ┆ cc-…       ┆        ┆            ┆   ┆          ┆ -1.582947 ┆           ┆           │\n",
       "│            ┆            ┆        ┆            ┆   ┆          ┆ …         ┆           ┆           │\n",
       "│ /data1/gro ┆ uHF UNO    ┆ 0      ┆ 2          ┆ … ┆ 2755     ┆ [[1.86369 ┆ 1.17816   ┆ 0.02146   │\n",
       "│ ups/RMG/Pr ┆ DLPNO-CCSD ┆        ┆            ┆   ┆          ┆ 4, -1.837 ┆           ┆           │\n",
       "│ ojects/Hao ┆ (T)-F12D   ┆        ┆            ┆   ┆          ┆ 741,      ┆           ┆           │\n",
       "│ …          ┆ cc-…       ┆        ┆            ┆   ┆          ┆ 0.40400…  ┆           ┆           │\n",
       "│ /data1/gro ┆ uHF UNO    ┆ 0      ┆ 2          ┆ … ┆ 2168     ┆ [[0.51157 ┆ 2.02224   ┆ 0.015178  │\n",
       "│ ups/RMG/Pr ┆ DLPNO-CCSD ┆        ┆            ┆   ┆          ┆ 8,        ┆           ┆           │\n",
       "│ ojects/Hao ┆ (T)-F12D   ┆        ┆            ┆   ┆          ┆ 0.143144, ┆           ┆           │\n",
       "│ …          ┆ cc-…       ┆        ┆            ┆   ┆          ┆ 1.144126… ┆           ┆           │\n",
       "└────────────┴────────────┴────────┴────────────┴───┴──────────┴───────────┴───────────┴───────────┘"
      ]
     },
     "execution_count": 8,
     "metadata": {},
     "output_type": "execute_result"
    }
   ],
   "source": [
    "# you can run everything from above using polars as well, and in my experience it uses less memory and is faster\n",
    "df = pl.read_parquet(DLPNO_DATABASE_FPATH)\n",
    "df.head(4)"
   ]
  },
  {
   "cell_type": "code",
   "execution_count": 9,
   "metadata": {},
   "outputs": [],
   "source": [
    "# a notable difference is that polars sets `memory_map=True` by default (pandas supports it, but is False and accessible via kwarg only)"
   ]
  },
  {
   "cell_type": "code",
   "execution_count": 10,
   "metadata": {},
   "outputs": [
    {
     "data": {
      "text/html": [
       "<div><style>\n",
       ".dataframe > thead > tr,\n",
       ".dataframe > tbody > tr {\n",
       "  text-align: right;\n",
       "  white-space: pre-wrap;\n",
       "}\n",
       "</style>\n",
       "<small>shape: (4, 2)</small><table border=\"1\" class=\"dataframe\"><thead><tr><th>source</th><th>charge</th></tr><tr><td>str</td><td>u8</td></tr></thead><tbody><tr><td>&quot;/data1/groups/RMG/Projects/Hao…</td><td>0</td></tr><tr><td>&quot;/data1/groups/RMG/Projects/Hao…</td><td>0</td></tr><tr><td>&quot;/data1/groups/RMG/Projects/Hao…</td><td>0</td></tr><tr><td>&quot;/data1/groups/RMG/Projects/Hao…</td><td>0</td></tr></tbody></table></div>"
      ],
      "text/plain": [
       "shape: (4, 2)\n",
       "┌─────────────────────────────────┬────────┐\n",
       "│ source                          ┆ charge │\n",
       "│ ---                             ┆ ---    │\n",
       "│ str                             ┆ u8     │\n",
       "╞═════════════════════════════════╪════════╡\n",
       "│ /data1/groups/RMG/Projects/Hao… ┆ 0      │\n",
       "│ /data1/groups/RMG/Projects/Hao… ┆ 0      │\n",
       "│ /data1/groups/RMG/Projects/Hao… ┆ 0      │\n",
       "│ /data1/groups/RMG/Projects/Hao… ┆ 0      │\n",
       "└─────────────────────────────────┴────────┘"
      ]
     },
     "execution_count": 10,
     "metadata": {},
     "output_type": "execute_result"
    }
   ],
   "source": [
    "# to pass filters to polars, you have to use the `pyarrow_options` argument (polars only supports limiting the number of rows in\n",
    "# in sequential order via `n_rows`)\n",
    "df = pl.read_parquet(\n",
    "    DLPNO_DATABASE_FPATH,\n",
    "    columns=[\"source\", \"charge\"],\n",
    "    pyarrow_options=dict(\n",
    "        filters=[(\"run_time\", \"<\", 100)],\n",
    "        schema=DLPNO_SCHEMA,\n",
    "    ),\n",
    ")\n",
    "df.head(4)"
   ]
  },
  {
   "cell_type": "code",
   "execution_count": 11,
   "metadata": {},
   "outputs": [
    {
     "data": {
      "text/html": [
       "<div><style>\n",
       ".dataframe > thead > tr,\n",
       ".dataframe > tbody > tr {\n",
       "  text-align: right;\n",
       "  white-space: pre-wrap;\n",
       "}\n",
       "</style>\n",
       "<small>shape: (0, 2)</small><table border=\"1\" class=\"dataframe\"><thead><tr><th>source</th><th>energy</th></tr><tr><td>str</td><td>f64</td></tr></thead><tbody></tbody></table></div>"
      ],
      "text/plain": [
       "shape: (0, 2)\n",
       "┌────────┬────────┐\n",
       "│ source ┆ energy │\n",
       "│ ---    ┆ ---    │\n",
       "│ str    ┆ f64    │\n",
       "╞════════╪════════╡\n",
       "└────────┴────────┘"
      ]
     },
     "execution_count": 11,
     "metadata": {},
     "output_type": "execute_result"
    }
   ],
   "source": [
    "# ...or just use polars other functions\n",
    "df = (\n",
    "    pl.scan_parquet(\n",
    "        DLPNO_DATABASE_FPATH,\n",
    "    )  # opens the file, but does not actually read it (LazyFrame)\n",
    "    .filter(\n",
    "        pl.col(\"run_time\") < 100,\n",
    "    )  # sets up our filters, but still does not run the query\n",
    "    .select(pl.col(\"source\"), pl.col(\"energy\"))\n",
    "    .collect()  # actually runs the query\n",
    ")\n",
    "df.head(4)"
   ]
  },
  {
   "cell_type": "code",
   "execution_count": 12,
   "metadata": {},
   "outputs": [
    {
     "data": {
      "text/html": [
       "<div>\n",
       "<style scoped>\n",
       "    .dataframe tbody tr th:only-of-type {\n",
       "        vertical-align: middle;\n",
       "    }\n",
       "\n",
       "    .dataframe tbody tr th {\n",
       "        vertical-align: top;\n",
       "    }\n",
       "\n",
       "    .dataframe thead th {\n",
       "        text-align: right;\n",
       "    }\n",
       "</style>\n",
       "<table border=\"1\" class=\"dataframe\">\n",
       "  <thead>\n",
       "    <tr style=\"text-align: right;\">\n",
       "      <th></th>\n",
       "      <th>source</th>\n",
       "      <th>energy</th>\n",
       "    </tr>\n",
       "  </thead>\n",
       "  <tbody>\n",
       "  </tbody>\n",
       "</table>\n",
       "</div>"
      ],
      "text/plain": [
       "Empty DataFrame\n",
       "Columns: [source, energy]\n",
       "Index: []"
      ]
     },
     "execution_count": 12,
     "metadata": {},
     "output_type": "execute_result"
    }
   ],
   "source": [
    "# the final option is to interact with the data via pyarrow directly, which takes all the same arguments as before but in a slightly\n",
    "# different setup - this is the single fastest way to read the data\n",
    "table = pq.ParquetDataset(DLPNO_DATABASE_FPATH, schema=DLPNO_SCHEMA, filters=[(\"run_time\", \"<\", 100)]).read(columns=[\"source\", \"energy\"])\n",
    "df = table.to_pandas()\n",
    "df.head(4)"
   ]
  },
  {
   "cell_type": "markdown",
   "metadata": {},
   "source": [
    "## DFT\n",
    "All of the above applies for the DFT data also - this will just demonstrate some of the fields that are specific to the DFT data, as well as limiting the number of rows (since this dataset is much bigger).\n",
    "\n",
    "This section will just use `pyarrow.parquet` since this dataset is more complicated and this library can do a lot more \"nuts and bolts\" interactions with the data.\n",
    "Everything shown could _probably_ be done with pandas or polars, but not as easily."
   ]
  },
  {
   "cell_type": "code",
   "execution_count": null,
   "metadata": {},
   "outputs": [],
   "source": [
    "# set this to match wherever you have the database file located\n",
    "DFT_DATABASE_FPATH = \"QuantumPioneer_v1_DFT.parquet\"\n",
    "# DLPNO_DATABASE_FPATH = \"C:\\\\VS mk306 TestEnv\\\\QuantumPioneer\\\\databases\\\\dlpno_ts_v5.parquet\""
   ]
  },
  {
   "cell_type": "code",
   "execution_count": null,
   "metadata": {},
   "outputs": [],
   "source": [
    "# look at the information about the database\n",
    "f = pq.ParquetFile(DFT_DATABASE_FPATH)\n",
    "f.metadata"
   ]
  },
  {
   "cell_type": "code",
   "execution_count": null,
   "metadata": {},
   "outputs": [],
   "source": [
    "# many rows in this data! just load some of them (see https://stackoverflow.com/a/69888274)\n",
    "first_ten_rows = next(f.iter_batches(batch_size=64))\n",
    "df = pa.Table.from_batches([first_ten_rows]).to_pandas()\n",
    "df.head(4)"
   ]
  },
  {
   "cell_type": "code",
   "execution_count": null,
   "metadata": {},
   "outputs": [],
   "source": [
    "# we can also apply the many filters from above on this data\n",
    "table = pq.ParquetDataset(\n",
    "    DFT_DATABASE_FPATH,\n",
    "    schema=DFT_SCHEMA,\n",
    "    filters=[(\"hf\", \"!=\", np.nan)],  # skip rows where hf is missing\n",
    "    memory_map=True,  # reduce memory usage by delaying reads into memory\n",
    ").read(columns=[\"multiplicity\", \"hf\"])\n",
    "\n",
    "for batch in table.to_batches(512):\n",
    "    print(batch.to_pandas().head(4))\n",
    "    break"
   ]
  },
  {
   "cell_type": "code",
   "execution_count": null,
   "metadata": {},
   "outputs": [],
   "source": [
    "# the last thing I will point to is the pyarrow scanner, which makes a lot of these operations easy too\n",
    "# https://arrow.apache.org/docs/python/generated/pyarrow.dataset.Scanner.html\n",
    "# This part of the pyarrow API is currently experimental, so it might change, but it is very useful\n",
    "\n",
    "ds = pa.dataset.dataset(DFT_DATABASE_FPATH, schema=DFT_SCHEMA)\n",
    "s = pa.dataset.Scanner.from_dataset(\n",
    "    ds,\n",
    "    columns=[\"charge\", \"multiplicity\", \"xyz\"],\n",
    "    filter=(pa.compute.field(\"hf\") != pa.compute.scalar(np.nan)),  # must use pyarrow.compute syntax instead of plain strings...\n",
    "    batch_size=5_096,  # reduce this to fit in your memory limitations\n",
    ")\n",
    "for batch in s.to_batches():\n",
    "    print(batch.to_pandas()['xyz'].head(4))\n",
    "    break"
   ]
  }
 ],
 "metadata": {
  "kernelspec": {
   "display_name": "Python 3",
   "language": "python",
   "name": "python3"
  },
  "language_info": {
   "codemirror_mode": {
    "name": "ipython",
    "version": 3
   },
   "file_extension": ".py",
   "mimetype": "text/x-python",
   "name": "python",
   "nbconvert_exporter": "python",
   "pygments_lexer": "ipython3",
   "version": "3.13.2"
  }
 },
 "nbformat": 4,
 "nbformat_minor": 2
}
